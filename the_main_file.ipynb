{
 "cells": [
  {
   "cell_type": "code",
   "execution_count": 4,
   "metadata": {
    "collapsed": true
   },
   "outputs": [],
   "source": [
    "import pandas as pd\n",
    "import numpy as np\n",
    "import matplotlib as mpl\n",
    "import matplotlib.pyplot as plt\n",
    "import pdb\n",
    "pd.set_option('display.max_columns', 500)"
   ]
  },
  {
   "cell_type": "code",
   "execution_count": 5,
   "metadata": {},
   "outputs": [],
   "source": [
    "df_train = pd.read_csv('train.csv', sep=',', index_col=0)\n",
    "df_test =  pd.read_csv('test.csv', sep=',', index_col=0)"
   ]
  },
  {
   "cell_type": "code",
   "execution_count": 7,
   "metadata": {},
   "outputs": [
    {
     "name": "stdout",
     "output_type": "stream",
     "text": [
      "<class 'pandas.core.frame.DataFrame'>\nInt64Index: 1459 entries, 1461 to 2919\nData columns (total 79 columns):\nMSSubClass       1459 non-null int64\nMSZoning         1455 non-null object\nLotFrontage      1232 non-null float64\nLotArea          1459 non-null int64\nStreet           1459 non-null object\nAlley            107 non-null object\nLotShape         1459 non-null object\nLandContour      1459 non-null object\nUtilities        1457 non-null object\nLotConfig        1459 non-null object\nLandSlope        1459 non-null object\nNeighborhood     1459 non-null object\nCondition1       1459 non-null object\nCondition2       1459 non-null object\nBldgType         1459 non-null object\nHouseStyle       1459 non-null object\nOverallQual      1459 non-null int64\nOverallCond      1459 non-null int64\nYearBuilt        1459 non-null int64\nYearRemodAdd     1459 non-null int64\nRoofStyle        1459 non-null object\nRoofMatl         1459 non-null object\nExterior1st      1458 non-null object\nExterior2nd      1458 non-null object\nMasVnrType       1443 non-null object\nMasVnrArea       1444 non-null float64\nExterQual        1459 non-null object\nExterCond        1459 non-null object\nFoundation       1459 non-null object\nBsmtQual         1415 non-null object\nBsmtCond         1414 non-null object\nBsmtExposure     1415 non-null object\nBsmtFinType1     1417 non-null object\nBsmtFinSF1       1458 non-null float64\nBsmtFinType2     1417 non-null object\nBsmtFinSF2       1458 non-null float64\nBsmtUnfSF        1458 non-null float64\nTotalBsmtSF      1458 non-null float64\nHeating          1459 non-null object\nHeatingQC        1459 non-null object\nCentralAir       1459 non-null object\nElectrical       1459 non-null object\n1stFlrSF         1459 non-null int64\n2ndFlrSF         1459 non-null int64\nLowQualFinSF     1459 non-null int64\nGrLivArea        1459 non-null int64\nBsmtFullBath     1457 non-null float64\nBsmtHalfBath     1457 non-null float64\nFullBath         1459 non-null int64\nHalfBath         1459 non-null int64\nBedroomAbvGr     1459 non-null int64\nKitchenAbvGr     1459 non-null int64\nKitchenQual      1458 non-null object\nTotRmsAbvGrd     1459 non-null int64\nFunctional       1457 non-null object\nFireplaces       1459 non-null int64\nFireplaceQu      729 non-null object\nGarageType       1383 non-null object\nGarageYrBlt      1381 non-null float64\nGarageFinish     1381 non-null object\nGarageCars       1458 non-null float64\nGarageArea       1458 non-null float64\nGarageQual       1381 non-null object\nGarageCond       1381 non-null object\nPavedDrive       1459 non-null object\nWoodDeckSF       1459 non-null int64\nOpenPorchSF      1459 non-null int64\nEnclosedPorch    1459 non-null int64\n3SsnPorch        1459 non-null int64\nScreenPorch      1459 non-null int64\nPoolArea         1459 non-null int64\nPoolQC           3 non-null object\nFence            290 non-null object\nMiscFeature      51 non-null object\nMiscVal          1459 non-null int64\nMoSold           1459 non-null int64\nYrSold           1459 non-null int64\nSaleType         1458 non-null object\nSaleCondition    1459 non-null object\ndtypes: float64(11), int64(25), object(43)\nmemory usage: 666.8+ KB\n"
     ]
    }
   ],
   "source": [
    "df_test.info()"
   ]
  },
  {
   "cell_type": "code",
   "execution_count": 8,
   "metadata": {},
   "outputs": [
    {
     "data": {
      "text/plain": [
       "Id\n1        NaN\n2        NaN\n3        NaN\n4        NaN\n5        NaN\n6       Shed\n7        NaN\n8       Shed\n9        NaN\n10       NaN\n11       NaN\n12       NaN\n13       NaN\n14       NaN\n15       NaN\n16       NaN\n17      Shed\n18      Shed\n19       NaN\n20       NaN\n21       NaN\n22       NaN\n23       NaN\n24       NaN\n25       NaN\n26       NaN\n27       NaN\n28       NaN\n29       NaN\n30       NaN\n        ... \n1431     NaN\n1432     NaN\n1433     NaN\n1434     NaN\n1435     NaN\n1436     NaN\n1437     NaN\n1438     NaN\n1439     NaN\n1440     NaN\n1441     NaN\n1442     NaN\n1443     NaN\n1444     NaN\n1445     NaN\n1446     NaN\n1447     NaN\n1448     NaN\n1449     NaN\n1450     NaN\n1451     NaN\n1452     NaN\n1453     NaN\n1454     NaN\n1455     NaN\n1456     NaN\n1457     NaN\n1458    Shed\n1459     NaN\n1460     NaN\nName: MiscFeature, dtype: object"
      ]
     },
     "execution_count": 8,
     "metadata": {},
     "output_type": "execute_result"
    }
   ],
   "source": [
    "df_train.isnull().sum()\n",
    "df_train['SalePrice'].hist(bins=100)\n",
    "df_train['MiscFeature']"
   ]
  },
  {
   "cell_type": "code",
   "execution_count": null,
   "metadata": {},
   "outputs": [],
   "source": [
    ""
   ]
  }
 ],
 "metadata": {
  "kernelspec": {
   "display_name": "Python 2",
   "language": "python",
   "name": "python2"
  },
  "language_info": {
   "codemirror_mode": {
    "name": "ipython",
    "version": 2.0
   },
   "file_extension": ".py",
   "mimetype": "text/x-python",
   "name": "python",
   "nbconvert_exporter": "python",
   "pygments_lexer": "ipython2",
   "version": "2.7.6"
  }
 },
 "nbformat": 4,
 "nbformat_minor": 0
}